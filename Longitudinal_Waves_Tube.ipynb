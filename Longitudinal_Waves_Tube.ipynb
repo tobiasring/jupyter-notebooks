{
 "cells": [
  {
   "cell_type": "code",
   "execution_count": 2,
   "metadata": {},
   "outputs": [],
   "source": [
    "#import some modules...\n",
    "from matplotlib import use\n",
    "use('Qt4Agg')\n",
    "import numpy as np\n",
    "import matplotlib.pyplot as plt\n",
    "plt.ion() # turn interactive plotting on"
   ]
  },
  {
   "cell_type": "code",
   "execution_count": 3,
   "metadata": {},
   "outputs": [],
   "source": [
    "# some inputs\n",
    "r = 1 # reflection factor\n",
    "xmax = 10 # tube length\n",
    "ymax = 1 # tube height \n",
    "dx = .2 # horizontal particle spacing\n",
    "dy = .2 # vertical particle spacing\n",
    "nwaves = 4 # number of waves in x direction\n",
    "ampl = .2 # amplitude of oscillations\n",
    "periods = 3 # number of periods to display\n",
    "dt = .1 # time resolution\n",
    "vphi = 2 # phase velocity\n",
    "phi = 0 # phase at start of animation"
   ]
  },
  {
   "cell_type": "code",
   "execution_count": 5,
   "metadata": {},
   "outputs": [],
   "source": [
    "# compute and display\n",
    "t = np.arange(0,periods*np.pi, dt) # generate a time vector\n",
    "xvec = np.arange(0,xmax, dx) # generate space domain vector, x direction\n",
    "yvec = np.arange(0,ymax, dy) # generate space domain vector, y direction\n",
    "fig, ax = plt.subplots() # open a figure\n",
    "for u in range(len(t)):\n",
    "    xvals = []\n",
    "    yvals = []\n",
    "    for i in range(len(xvec)):\n",
    "        for j in range(len(yvec)):\n",
    "            dispxhin = np.sin(2*np.pi*xvec[i] * nwaves / xmax - vphi * t[u])\n",
    "            dispxrueck = r * np.sin(2*np.pi*xvec[i] * nwaves / xmax + vphi * t[u])\n",
    "            dispx = dispxhin + dispxrueck\n",
    "            #pos = ampl * np.sin(t[u]) * np.sin(2 * np.pi * xvec[i] * nwaves / xmax) + xvec[i]\n",
    "            pos = ampl * dispx + xvec[i]\n",
    "            xvals.append(pos)\n",
    "            yvals.append(yvec[j])\n",
    "    plt.scatter(xvals, yvals)\n",
    "    plt.axes().set_aspect('equal', 'datalim')\n",
    "    plt.xlim([-.1, xmax + .1])\n",
    "    plt.ylim([-.1, ymax + .1]) \n",
    "    plt.pause(.01)\n",
    "    plt.axes().remove()\n",
    "plt.ioff()"
   ]
  },
  {
   "cell_type": "code",
   "execution_count": null,
   "metadata": {},
   "outputs": [],
   "source": []
  }
 ],
 "metadata": {
  "kernelspec": {
   "display_name": "Python 2",
   "language": "python",
   "name": "python2"
  },
  "language_info": {
   "codemirror_mode": {
    "name": "ipython",
    "version": 2
   },
   "file_extension": ".py",
   "mimetype": "text/x-python",
   "name": "python",
   "nbconvert_exporter": "python",
   "pygments_lexer": "ipython2",
   "version": "2.7.12"
  }
 },
 "nbformat": 4,
 "nbformat_minor": 2
}
