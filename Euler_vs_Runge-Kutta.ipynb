{
 "cells": [
  {
   "cell_type": "markdown",
   "metadata": {},
   "source": [
    "# Numerische Integration mit dem Euler-Cauchy Polygonzugverfahren Verfahren und dem Runge-Kutta Verfahren\n",
    "\n",
    "In diesem Beispiel geht es um die numerische Integration des Einmassenschwingers mit der Gleichung\n",
    "\n",
    "$$ m \\ \\ddot x + b\\ \\dot x + c\\ x = 0 \\quad .$$\n",
    "\n",
    "## Überführung in Systeme erster Ordnung\n",
    "Die Gleichung ist zweiter Ordnung (zu erkennen an der zweiten Zeitableitung der Ortskoordinate $x$). Wir zerlegen die Gleichung in ein System zweier Gleichungen erster Ordnung durch die Substitution $x = x_0$:\n",
    "\n",
    "$$ \\dot x_0 = x_1$$\n",
    "und \n",
    "$$m\\ \\dot x_1 + b\\ x_1 + c\\ x_0 = 0 \\quad .$$\n",
    "Wir bringen diese Gleichungen noch in die Normalform (das macht es später etwas übersichtlicher):\n",
    "$$ \\dot x_0 = x_1$$\n",
    "und \n",
    "$$\\dot x_1 =  -\\frac{b}{m}\\ x_1 - \\frac{c}{m}\\ x_0 \\quad .$$\n",
    "## Anfangswerte\n",
    "Als Anfangswerte benötigen wir zwei Werte, für jede Gleichung einen. Wir wählen:\n",
    "$$ x_0(t=0) = 1$$\n",
    "und \n",
    "$$ x_1(t=0) = 0$$"
   ]
  },
  {
   "cell_type": "markdown",
   "metadata": {},
   "source": [
    "## Analytische Lösung\n",
    "Bekanntlich lässt sich die oben beschriebene DLG auch analytisch lösen. Wir nutzen die Lösung hier als mathematisch exakte Referenz (im Vergleich zu den approximativen Näherungsverfahren) um die Qualität verschiedener Verfahren vergleichen zu können. Die Lösung ist: \n",
    "$$ x(t) = \\hat x \\ e^{-\\omega_0 \\ D \\ t} \\ e^{j \\omega_0 \\sqrt{1-D^2}t}$$"
   ]
  },
  {
   "cell_type": "code",
   "execution_count": 2,
   "metadata": {},
   "outputs": [
    {
     "data": {
      "image/png": "[encoded data removed]",
      "text/plain": [
       "<Figure size 432x288 with 1 Axes>"
      ]
     },
     "metadata": {
      "needs_background": "light"
     },
     "output_type": "display_data"
    }
   ],
   "source": [
    "import numpy as np\n",
    "tmax = 50\n",
    "t_exact = np.arange(0, tmax, .1)\n",
    "# set parameters\n",
    "D = .05\n",
    "c = 2\n",
    "m = 1\n",
    "b = D*2*m*np.sqrt(c/m)\n",
    "x0 = 1\n",
    "omega0 = np.sqrt(c/m)\n",
    "x_exact =np.real( x0 * np.exp(-omega0 * D * t_exact) * np.exp(1.j * omega0 * np.sqrt(1-D**2) * t_exact))\n",
    "\n",
    "import matplotlib.pyplot as plt\n",
    "plt.plot(t_exact,x_exact)\n",
    "plt.show()"
   ]
  },
  {
   "cell_type": "markdown",
   "metadata": {},
   "source": [
    "## Numerische Lösung mit dem Euler-Cauchy-Polygonzugverfahren\n",
    "Allgemein lässt sich eine DGL erster Ordnung schreiben als:\n",
    "$$ y^\\prime = f(x, y(x))$$ \n",
    "Die Ableitung ist also identisch mit dem auf der rechten Seite verbleibenden Term. \n",
    "Mit einem einfachen Sekanten-Ansatz lässt sich so ein einfaches Näherungsverfahren konstruieren:\n",
    "$$y_{i+1} = y_{i} + h \\ y^\\prime$$\n",
    "Ausgehend von einem bekannten Funktionswert $y_{i}$ lässt sich also der nächste Funktionswert nach einer Schrittweite $h$ einfach mit der aktuellen Steigung berechnen. Das Tolle: die Steigung steht auf der rechten Seite der Normalform!"
   ]
  },
  {
   "cell_type": "code",
   "execution_count": null,
   "metadata": {},
   "outputs": [],
   "source": [
    "# Integrate using Euler-Cauchy's Method\n",
    "\n",
    "# step width h\n",
    "h = .001\n",
    "\n",
    "# generate a time vector\n",
    "t_euler = np.arange(0,tmax+h,h)\n",
    "\n",
    "# generate solution vectors\n",
    "x0 = np.zeros(len(t_euler))\n",
    "x1 = np.zeros(len(t_euler))\n",
    "\n",
    "# set initial values\n",
    "x0[0] = 1\n",
    "x1[0] = 0\n",
    "\n",
    "# integrate the system!\n",
    "for i in range(len(t_euler)-1):\n",
    "    x0[i+1] = x0[i] + h * x1[i]\n",
    "    x1[i+1] = x1[i] + h * (-b/m * x1[i] - c/m * x0[i]) \n",
    "\n",
    "plt.plot(t_exact, x_exact, label = 'analytisch')\n",
    "plt.plot(t_euler, x0, label = 'Euler')\n",
    "plt.legend()\n",
    "plt.show()"
   ]
  },
  {
   "cell_type": "code",
   "execution_count": null,
   "metadata": {},
   "outputs": [],
   "source": [
    "# Integrate using Runge-Kutta Method\n",
    "\n",
    "def ems(t,y):\n",
    "    dy = np.zeros(2)\n",
    "    dy[0] = y[1]\n",
    "    dy[1] = -b/m * y[1] - c/m * y[0]\n",
    "    return dy\n",
    "\n",
    "import scipy.integrate as integrator\n",
    "y0 = np.array([1, 0])\n",
    "result = integrator.solve_ivp(ems, [0, tmax], y0, 'RK23', first_step = .01)\n",
    "disp = result.y[0]\n",
    "# generate a fitting time vector\n",
    "t_rk45 = np.linspace(0, tmax, len(disp))\n",
    "\n",
    "plt.plot(t_exact, x_exact, label = 'analytisch')\n",
    "plt.plot(t_euler, x0, label = 'Euler')\n",
    "plt.plot(t_rk45, disp, label = 'RK45')\n",
    "plt.legend()\n",
    "plt.show()"
   ]
  },
  {
   "cell_type": "code",
   "execution_count": null,
   "metadata": {},
   "outputs": [],
   "source": [
    "# function calls\n",
    "print(len(x0))\n",
    "print(len(disp))"
   ]
  },
  {
   "cell_type": "code",
   "execution_count": null,
   "metadata": {},
   "outputs": [],
   "source": []
  }
 ],
 "metadata": {
  "kernelspec": {
   "display_name": "Python 3",
   "language": "python",
   "name": "python3"
  },
  "language_info": {
   "codemirror_mode": {
    "name": "ipython",
    "version": 3
   },
   "file_extension": ".py",
   "mimetype": "text/x-python",
   "name": "python",
   "nbconvert_exporter": "python",
   "pygments_lexer": "ipython3",
   "version": "3.7.4"
  }
 },
 "nbformat": 4,
 "nbformat_minor": 2
}
